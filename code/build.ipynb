{
 "cells": [
  {
   "cell_type": "code",
   "execution_count": 1,
   "metadata": {},
   "outputs": [],
   "source": [
    "from rdflib import Graph, Literal, RDF, URIRef, Namespace, RDFS, OWL\n",
    "from rdflib.namespace import XSD, RDFS"
   ]
  },
  {
   "cell_type": "markdown",
   "metadata": {},
   "source": [
    "#### Step 1: Define ontology \n",
    "\n",
    "I chose to have only one class for all players, https://dbpedia.org/page/Football_player \n",
    "\n",
    "The case can be made that each position can be a different class. This is possible because dbpedia does indeed have different classes for each position. I chose not to do this because:\n",
    "\n",
    "(1) Many statistics and properties are shared between both types of players (club, matches played, starts, etc.)\n",
    "\n",
    "(2) For my use case, which is predicting which players will be at the same club at a given year, the type of player shouldn't make a difference to the predictions.  \n",
    "\n",
    "(3) Based on the way I have cleaned the data, there can be no inconsistencies. That is, outfield players cannot have goalkeeper statistics and vice versa.  \n",
    "\n",
    "Cons:\n",
    "\n",
    "(1) Different players share the same super class. Which means there is a compromise in the semantics, since I chose to ignore subclasses that exist.\n",
    "\n",
    "Note: queries can be made to find goalkeepers or other positions, it would just be querying the property BestPosition of each player, instead of type of node itself. If I was just building a KG I would have to be more stringent while defining my main, sub classes. "
   ]
  },
  {
   "cell_type": "code",
   "execution_count": 2,
   "metadata": {},
   "outputs": [],
   "source": [
    "# Define namespaces \n",
    "\n",
    "sofifa = Namespace(\"https://sofifa.com\")\n",
    "dbpediaclass = Namespace(\"https://dbpedia.org/page\")\n",
    "wikidata = Namespace(\"https://www.wikidata.org/wiki/\")\n",
    "sportsschema= Namespace(\"https://sportschema.org/ontologies/soccer\")\n",
    "dbpedia = Namespace(\"https://dbpedia.org/property\")\n",
    "\n",
    "g = Graph()\n",
    "g.bind(\"sofifa\", sofifa)\n",
    "g.bind(\"dbpediaclass\", dbpediaclass)\n",
    "g.bind(\"wikidata\", wikidata)\n",
    "g.bind(\"sportsschema\", sportsschema)\n",
    "g.bind(\"dbpedia\", dbpedia)"
   ]
  },
  {
   "cell_type": "code",
   "execution_count": 3,
   "metadata": {},
   "outputs": [
    {
     "data": {
      "text/plain": [
       "<Graph identifier=Na30c12bd04c141809e317d0a7dee2fd6 (<class 'rdflib.graph.Graph'>)>"
      ]
     },
     "execution_count": 3,
     "metadata": {},
     "output_type": "execute_result"
    }
   ],
   "source": [
    "# Add main class \n",
    "\n",
    "player_uri = sofifa['player']\n",
    "g.add((player_uri, RDF.type, dbpediaclass['Football_player']))\n",
    "\n",
    "# Add player properties that don't change in 2 years (name, height, etc.)\n",
    "\n",
    "constant_literals = {'Property:P1477':'name', 'Property:P27':'nationality', 'Property:P413':'position',\n",
    "                     'Property:P8006':'preferredfoot'}\n",
    "\n",
    "for key, value in constant_literals.items():\n",
    "    g.add((URIRef(wikidata[key]), RDF.type, RDF.Property))\n",
    "    g.add((URIRef(wikidata[key]), RDFS.domain, player_uri))\n",
    "    g.add((URIRef(wikidata[key]), RDFS.range, RDFS.Literal))\n",
    "    g.add((URIRef(wikidata[key]), RDFS.label, Literal(value)))\n",
    "\n",
    "g.add((URIRef(wikidata['Property:P2048']), RDF.type, RDF.Property))\n",
    "g.add((URIRef(wikidata['Property:P2048']), RDFS.domain, player_uri))\n",
    "g.add((URIRef(wikidata['Property:P2048']), RDFS.range, XSD.float))\n",
    "g.add((URIRef(wikidata['Property:P2048']), RDFS.label, Literal('height')))\n",
    "      \n",
    "g.add((URIRef(wikidata['Q21821348']), RDF.type, RDF.Property))\n",
    "g.add((URIRef(wikidata['Q21821348']), RDFS.domain, player_uri))\n",
    "g.add((URIRef(wikidata['Q21821348']), RDFS.range, XSD.dateTime))\n",
    "g.add((URIRef(wikidata['Q21821348']), RDFS.label, Literal('birthyear')))\n"
   ]
  },
  {
   "cell_type": "code",
   "execution_count": 4,
   "metadata": {},
   "outputs": [],
   "source": [
    "# Add fifa properties that change every year \n",
    "\n",
    "dbpedia_properties = [ \"fts\", \"IntReputation\", \"Potential\", \"attackingworkrate\", \"contractuntil\",\n",
    "                       \"defending\", \"defensiveworkrate\", \"dribbling\", \"gkdiving\", \"gkhandling\",\n",
    "                       \"gkkicking\", \"gkpositioning\", \"gkreflexes\", \"matchesplayed\", \"minutes\",\n",
    "                       \"overallRating\", \"pace\", \"passing\", \"physicality\", \"shooting\", \"skillmoves\",\n",
    "                       \"starts\", \"value\", \"club\" ]\n",
    "\n",
    "for prop in dbpedia_properties:\n",
    "    g.add((URIRef(dbpedia[prop]), RDF.type, RDF.Property))\n",
    "    g.add((URIRef(dbpedia[prop]), RDFS.domain, player_uri))\n",
    "    g.add((URIRef(dbpedia[prop]), RDFS.range, RDF.Seq))"
   ]
  },
  {
   "cell_type": "code",
   "execution_count": 5,
   "metadata": {},
   "outputs": [
    {
     "data": {
      "text/plain": [
       "<Graph identifier=Na30c12bd04c141809e317d0a7dee2fd6 (<class 'rdflib.graph.Graph'>)>"
      ]
     },
     "execution_count": 5,
     "metadata": {},
     "output_type": "execute_result"
    }
   ],
   "source": [
    "# Add statistics properties that change every year\n",
    "\n",
    "sportsschema_properties = [ \"aerialsWon\", \"assistsTotal\", \"clearancesSuccessful\", \"foulsCommited\",\n",
    "                            \"foulsSuffered\", \"goalsTotal\", \"interceptions\", \"passesCompleteLong\",\n",
    "                            \"passesCompletePercentage\", \"shotsOnGoalTotal\", \"touches\" ]\n",
    "\n",
    "for prop in sportsschema_properties:\n",
    "    g.add((URIRef(sportsschema[prop]), RDF.type, RDF.Property))\n",
    "    g.add((URIRef(sportsschema[prop]), RDFS.domain, player_uri))\n",
    "    g.add((URIRef(sportsschema[prop]), RDFS.range, RDF.Seq))\n",
    "\n",
    "\n",
    "g.add((URIRef(wikidata['Property:P54']), RDF.type, RDF.Property))\n",
    "g.add((URIRef(wikidata['Property:P54']), RDFS.domain, player_uri))\n",
    "g.add((URIRef(wikidata['Property:P54']), RDFS.range, RDF.Seq))\n",
    "g.add((URIRef(wikidata['Property:P54']), RDFS.label, Literal('club')))"
   ]
  },
  {
   "cell_type": "code",
   "execution_count": 6,
   "metadata": {
    "vscode": {
     "languageId": "ruby"
    }
   },
   "outputs": [
    {
     "data": {
      "text/plain": [
       "<Graph identifier=Na30c12bd04c141809e317d0a7dee2fd6 (<class 'rdflib.graph.Graph'>)>"
      ]
     },
     "execution_count": 6,
     "metadata": {},
     "output_type": "execute_result"
    }
   ],
   "source": [
    "# Define a local namespace & make all properties and classes equivalent to make querying easier\n",
    "fb = Namespace(\"https://footballerontology.com\")\n",
    "g.bind(\"fb\", fb)\n",
    "\n",
    "# Link main player class\n",
    "g.add((sofifa.player, OWL.equivalentClass, fb.player))\n",
    "\n",
    "# Link properties \n",
    "for prop in dbpedia_properties:\n",
    "    g.add((URIRef(dbpedia[prop]), OWL.equivalentProperty, URIRef(fb[prop])))\n",
    "\n",
    "for prop in sportsschema_properties:\n",
    "    g.add((URIRef(sportsschema[prop]), OWL.equivalentProperty, URIRef(fb[prop])))\n",
    "\n",
    "for key, value in constant_literals.items():\n",
    "    g.add((URIRef(wikidata[key]), OWL.equivalentProperty, URIRef(fb[value])))\n",
    "\n",
    "g.add((URIRef(wikidata['Property:P2048']), OWL.equivalentProperty, URIRef(fb['height'])))\n",
    "g.add((URIRef(wikidata['Property:P54']), OWL.equivalentProperty, URIRef(fb['club'])))\n",
    "g.add((URIRef(wikidata['Q21821348']), OWL.equivalentProperty, URIRef(fb['birthyear'])))\n",
    "\n",
    "g.serialize(destination='../kg/schema.ttl', format='turtle')"
   ]
  },
  {
   "cell_type": "markdown",
   "metadata": {},
   "source": [
    "#### Step 2: Populate KG "
   ]
  },
  {
   "cell_type": "code",
   "execution_count": 7,
   "metadata": {},
   "outputs": [],
   "source": [
    "import warnings\n",
    "warnings.simplefilter(action='ignore', category=FutureWarning)\n",
    "\n",
    "import pandas as pd \n",
    "\n",
    "fb = Namespace(\"https://footballerontology.com\")\n",
    "data_21 = pd.read_csv(\"../data/cleaned/Data 21.csv\")\n",
    "\n",
    "\n",
    "for index, row in data_21.iterrows():\n",
    "    # Add properties common to all players that do not change\n",
    "    player_uri = URIRef(fb[f\"/player/{row[0]}\"])\n",
    "    g.add((player_uri, RDF.type, fb.player))\n",
    "\n",
    "    g.add((player_uri, fb.name, Literal(row[1])))\n",
    "    g.add((player_uri, fb.height, Literal(row[2], datatype=XSD.float)))\n",
    "    g.add((player_uri, fb.nationality, Literal(row[3])))\n",
    "    g.add((player_uri, fb.position, Literal(row[6]))) \n",
    "    g.add((player_uri, fb.preferredfoot, Literal(row[11])))\n",
    "    g.add((player_uri, fb.birthyear, Literal(row[26], datatype=XSD.integer)))\n",
    "    \n",
    "    # Add properties that change every year, common to all players\n",
    "    g.add((player_uri, fb.fts, Literal(row[30], datatype=XSD.float)))\n",
    "    g.add((player_uri, fb.intreputation, Literal(row[10], datatype=XSD.integer)))\n",
    "    g.add((player_uri, fb.potential, Literal(row[5], datatype=XSD.integer)))\n",
    "    g.add((player_uri, fb.matchesplayed, Literal(row[27], datatype=XSD.integer)))\n",
    "    g.add((player_uri, fb.starts, Literal(row[28], datatype=XSD.integer)))\n",
    "    g.add((player_uri, fb.value, Literal(row[8], datatype=XSD.float)))\n",
    "    g.add((player_uri, fb.minutes, Literal(row[29], datatype=XSD.integer)))\n",
    "    g.add((player_uri, fb.overallrating, Literal(row[4], datatype=XSD.integer)))\n",
    "    g.add((player_uri, fb.contractuntil, Literal(row[9], datatype=XSD.dateTime)))\n",
    "    g.add((player_uri, fb.club, Literal(row[7])))\n",
    "    \n",
    "    # Add goalkeeper properties \n",
    "    if row['BestPosition'] == 'GK':\n",
    "        g.add((player_uri, fb.gkdiving, Literal(row[21], datatype=XSD.integer)))\n",
    "        g.add((player_uri, fb.gkhandling, Literal(row[22], datatype=XSD.integer)))\n",
    "        g.add((player_uri, fb.gkkicking, Literal(row[23], datatype=XSD.integer)))\n",
    "        g.add((player_uri, fb.gkpositioning, Literal(row[24], datatype=XSD.integer)))\n",
    "        g.add((player_uri, fb.gkreflexes, Literal(row[25], datatype=XSD.integer)))\n",
    "        g.add((player_uri, fb.touches, Literal(row[37], datatype=XSD.integer)))\n",
    "        g.add((player_uri, fb.foulscommitted, Literal(row[39], datatype=XSD.integer)))\n",
    "        g.add((player_uri, fb.foulssuffered, Literal(row[40], datatype=XSD.integer)))\n",
    "        g.add((player_uri, fb.clearancessuccessful, Literal(row[35], datatype=XSD.integer)))\n",
    "        g.add((player_uri, fb.aerialswon, Literal(row[36], datatype=XSD.integer)))\n",
    "        g.add((player_uri, fb.passescompletelong, Literal(row[38], datatype=XSD.integer)))\n",
    "        g.add((player_uri, fb.passescompletepercentage, Literal(row[33], datatype=XSD.float)))\n",
    "    \n",
    "    # Add outfield player properties\n",
    "    else:\n",
    "        g.add((player_uri, fb.defending, Literal(row[19], datatype=XSD.integer)))\n",
    "        g.add((player_uri, fb.attackingworkrate, Literal(row[13])))\n",
    "        g.add((player_uri, fb.defensiveworkrate, Literal(row[14])))\n",
    "        g.add((player_uri, fb.dribbling, Literal(row[18], datatype=XSD.integer)))\n",
    "        g.add((player_uri, fb.pace, Literal(row[15], datatype=XSD.integer)))\n",
    "        g.add((player_uri, fb.passing, Literal(row[17], datatype=XSD.integer)))\n",
    "        g.add((player_uri, fb.physicality, Literal(row[20], datatype=XSD.integer)))\n",
    "        g.add((player_uri, fb.shooting, Literal(row[16], datatype=XSD.integer)))\n",
    "        g.add((player_uri, fb.skillmoves, Literal(row[12], datatype=XSD.integer)))\n",
    "        g.add((player_uri, fb.goalstotal, Literal(row[31], datatype=XSD.integer)))\n",
    "        g.add((player_uri, fb.assiststotal, Literal(row[32], datatype=XSD.integer)))\n",
    "        g.add((player_uri, fb.shotsongoaltotal, Literal(row[41], datatype=XSD.integer)))\n",
    "        g.add((player_uri, fb.touches, Literal(row[37], datatype=XSD.integer)))\n",
    "        g.add((player_uri, fb.foulscommitted, Literal(row[39], datatype=XSD.integer)))\n",
    "        g.add((player_uri, fb.foulssuffered, Literal(row[40], datatype=XSD.integer)))\n",
    "        g.add((player_uri, fb.interceptions, Literal(row[34], datatype=XSD.integer)))\n",
    "        g.add((player_uri, fb.clearancessuccessful, Literal(row[35], datatype=XSD.integer)))\n",
    "        g.add((player_uri, fb.aerialswon, Literal(row[36], datatype=XSD.integer)))\n",
    "        g.add((player_uri, fb.passescompletelong, Literal(row[38], datatype=XSD.integer)))\n",
    "        g.add((player_uri, fb.passescompletepercentage, Literal(row[33], datatype=XSD.float)))"
   ]
  },
  {
   "cell_type": "code",
   "execution_count": 9,
   "metadata": {},
   "outputs": [],
   "source": [
    "# Add 2022 data onto existing players \n",
    "\n",
    "data_22 = pd.read_csv(\"../data/cleaned/Data 22.csv\")\n",
    "\n",
    "for index, row in data_22.iterrows():\n",
    "    # Find matching player by ID\n",
    "    player_uri = URIRef(fb[f\"/player/{row[0]}\"])\n",
    "    \n",
    "    # Append new values to existing player\n",
    "    # Add properties that change every year, common to all players\n",
    "    g.add((player_uri, fb.fts, Literal(row[30], datatype=XSD.float)))\n",
    "    g.add((player_uri, fb.intreputation, Literal(row[10], datatype=XSD.integer)))\n",
    "    g.add((player_uri, fb.potential, Literal(row[5], datatype=XSD.integer)))\n",
    "    g.add((player_uri, fb.matchesplayed, Literal(row[27], datatype=XSD.integer))) \n",
    "    g.add((player_uri, fb.starts, Literal(row[28], datatype=XSD.integer)))\n",
    "    g.add((player_uri, fb.value, Literal(row[8], datatype=XSD.float)))\n",
    "    g.add((player_uri, fb.minutes, Literal(row[29], datatype=XSD.integer)))\n",
    "    g.add((player_uri, fb.overallrating, Literal(row[4], datatype=XSD.integer)))\n",
    "    g.add((player_uri, fb.contractuntil, Literal(row[9], datatype=XSD.dateTime)))\n",
    "    g.add((player_uri, fb.club, Literal(row[7])))\n",
    "\n",
    "    # Add goalkeeper properties\n",
    "    if row['BestPosition'] == 'GK':\n",
    "        g.add((player_uri, fb.gkdiving, Literal(row[21], datatype=XSD.integer)))\n",
    "        g.add((player_uri, fb.gkhandling, Literal(row[22], datatype=XSD.integer))) \n",
    "        g.add((player_uri, fb.gkkicking, Literal(row[23], datatype=XSD.integer)))\n",
    "        g.add((player_uri, fb.gkpositioning, Literal(row[24], datatype=XSD.integer)))\n",
    "        g.add((player_uri, fb.gkreflexes, Literal(row[25], datatype=XSD.integer)))\n",
    "        g.add((player_uri, fb.touches, Literal(row[37], datatype=XSD.integer)))\n",
    "        g.add((player_uri, fb.foulscommitted, Literal(row[39], datatype=XSD.integer)))\n",
    "        g.add((player_uri, fb.foulssuffered, Literal(row[40], datatype=XSD.integer)))\n",
    "        g.add((player_uri, fb.clearancessuccessful, Literal(row[35], datatype=XSD.integer)))\n",
    "        g.add((player_uri, fb.aerialswon, Literal(row[36], datatype=XSD.integer)))\n",
    "        g.add((player_uri, fb.passescompletelong, Literal(row[38], datatype=XSD.integer)))\n",
    "        g.add((player_uri, fb.passescompletepercentage, Literal(row[33], datatype=XSD.float)))\n",
    "    \n",
    "    # Add outfield player properties \n",
    "    else:\n",
    "        g.add((player_uri, fb.defending, Literal(row[19], datatype=XSD.integer)))\n",
    "        g.add((player_uri, fb.attackingworkrate, Literal(row[13])))\n",
    "        g.add((player_uri, fb.defensiveworkrate, Literal(row[14])))\n",
    "        g.add((player_uri, fb.dribbling, Literal(row[18], datatype=XSD.integer)))\n",
    "        g.add((player_uri, fb.pace, Literal(row[15], datatype=XSD.integer)))\n",
    "        g.add((player_uri, fb.passing, Literal(row[17], datatype=XSD.integer)))\n",
    "        g.add((player_uri, fb.physicality, Literal(row[20], datatype=XSD.integer)))\n",
    "        g.add((player_uri, fb.shooting, Literal(row[16], datatype=XSD.integer)))\n",
    "        g.add((player_uri, fb.skillmoves, Literal(row[12], datatype=XSD.integer)))\n",
    "        g.add((player_uri, fb.goalstotal, Literal(row[31], datatype=XSD.integer)))\n",
    "        g.add((player_uri, fb.assiststotal, Literal(row[32], datatype=XSD.integer)))\n",
    "        g.add((player_uri, fb.shotsongoaltotal, Literal(row[41], datatype=XSD.integer)))\n",
    "        g.add((player_uri, fb.touches, Literal(row[37], datatype=XSD.integer)))\n",
    "        g.add((player_uri, fb.foulscommitted, Literal(row[39], datatype=XSD.integer)))\n",
    "        g.add((player_uri, fb.foulssuffered, Literal(row[40], datatype=XSD.integer)))\n",
    "        g.add((player_uri, fb.interceptions, Literal(row[34], datatype=XSD.integer)))\n",
    "        g.add((player_uri, fb.clearancessuccessful, Literal(row[35], datatype=XSD.integer)))\n",
    "        g.add((player_uri, fb.aerialswon, Literal(row[36], datatype=XSD.integer)))\n",
    "        g.add((player_uri, fb.passescompletelong, Literal(row[38], datatype=XSD.integer)))\n",
    "        g.add((player_uri, fb.passescompletepercentage, Literal(row[33], datatype=XSD.float)))"
   ]
  },
  {
   "cell_type": "code",
   "execution_count": 12,
   "metadata": {},
   "outputs": [
    {
     "data": {
      "text/plain": [
       "<Graph identifier=Na30c12bd04c141809e317d0a7dee2fd6 (<class 'rdflib.graph.Graph'>)>"
      ]
     },
     "execution_count": 12,
     "metadata": {},
     "output_type": "execute_result"
    }
   ],
   "source": [
    "g.serialize(destination='../kg/players.ttl', format='ttl')"
   ]
  }
 ],
 "metadata": {
  "kernelspec": {
   "display_name": "bmkg",
   "language": "python",
   "name": "python3"
  },
  "language_info": {
   "codemirror_mode": {
    "name": "ipython",
    "version": 3
   },
   "file_extension": ".py",
   "mimetype": "text/x-python",
   "name": "python",
   "nbconvert_exporter": "python",
   "pygments_lexer": "ipython3",
   "version": "3.9.21"
  }
 },
 "nbformat": 4,
 "nbformat_minor": 2
}
