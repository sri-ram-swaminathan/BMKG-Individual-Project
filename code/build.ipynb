{
 "cells": [
  {
   "cell_type": "code",
   "execution_count": 1,
   "metadata": {},
   "outputs": [],
   "source": [
    "from rdflib import Graph, Literal, RDF, URIRef, Namespace, RDFS, OWL\n",
    "from rdflib.namespace import XSD, RDFS"
   ]
  },
  {
   "cell_type": "markdown",
   "metadata": {},
   "source": [
    "#### Step 1: Define ontology \n",
    "\n",
    "I chose to have only one class for all players, https://dbpedia.org/page/Football_player \n",
    "\n",
    "The case can be made that each position can be a different class. This is possible because dbpedia does indeed have different classes for each position. I chose not to do this because:\n",
    "\n",
    "(1) Many statistics and properties are shared between both types of players (club, matches played, starts, etc.)\n",
    "\n",
    "(2) For my use case, which is predicting which players will be at the same club at a given year, the type of player shouldn't make a difference to the predictions.  \n",
    "\n",
    "(3) Based on the way I have cleaned the data, there can be no inconsistencies. That is, outfield players cannot have goalkeeper statistics and vice versa.  \n",
    "\n",
    "Cons:\n",
    "\n",
    "(1) Different players share the same super class. Which means there is a compromise in the semantics, since I chose to ignore subclasses that exist.\n",
    "\n",
    "Note: queries can be made to find goalkeepers or other positions, it would just be querying the property BestPosition of each player, instead of type of node itself. If I was just building a KG I would have to be more stringent while defining my main, sub classes. "
   ]
  },
  {
   "cell_type": "code",
   "execution_count": 2,
   "metadata": {},
   "outputs": [],
   "source": [
    "# Define namespaces \n",
    "\n",
    "sofifa = Namespace(\"https://sofifa.com\")\n",
    "dbpediaclass = Namespace(\"https://dbpedia.org/page\")\n",
    "wikidata = Namespace(\"https://www.wikidata.org/wiki/\")\n",
    "sportsschema= Namespace(\"https://sportschema.org/ontologies/soccer\")\n",
    "dbpedia = Namespace(\"https://dbpedia.org/property\")\n",
    "\n",
    "g = Graph()\n",
    "g.bind(\"sofifa\", sofifa)\n",
    "g.bind(\"dbpediaclass\", dbpediaclass)\n",
    "g.bind(\"wikidata\", wikidata)\n",
    "g.bind(\"sportsschema\", sportsschema)\n",
    "g.bind(\"dbpedia\", dbpedia)"
   ]
  },
  {
   "cell_type": "code",
   "execution_count": 3,
   "metadata": {},
   "outputs": [
    {
     "data": {
      "text/plain": [
       "<Graph identifier=N29de5d0e2146418aa1789015bef1a7b1 (<class 'rdflib.graph.Graph'>)>"
      ]
     },
     "execution_count": 3,
     "metadata": {},
     "output_type": "execute_result"
    }
   ],
   "source": [
    "# Add main class \n",
    "\n",
    "player_uri = sofifa['player']\n",
    "g.add((player_uri, RDF.type, dbpediaclass['Football_player']))\n",
    "\n",
    "# Add player properties that don't change in 2 years (name, height, etc.)\n",
    "\n",
    "constant_literals = {'Property:P1477':'name', 'Property:P27':'nationality', 'Property:P413':'position',\n",
    "                     'Property:P8006':'preferredfoot'}\n",
    "\n",
    "for key, value in constant_literals.items():\n",
    "    g.add((URIRef(wikidata[key]), RDF.type, RDF.Property))\n",
    "    g.add((URIRef(wikidata[key]), RDFS.domain, player_uri))\n",
    "    g.add((URIRef(wikidata[key]), RDFS.range, RDFS.Literal))\n",
    "    g.add((URIRef(wikidata[key]), RDFS.label, Literal(value)))\n",
    "\n",
    "g.add((URIRef(wikidata['Property:P2048']), RDF.type, RDF.Property))\n",
    "g.add((URIRef(wikidata['Property:P2048']), RDFS.domain, player_uri))\n",
    "g.add((URIRef(wikidata['Property:P2048']), RDFS.range, XSD.float))\n",
    "g.add((URIRef(wikidata['Property:P2048']), RDFS.label, Literal('height')))\n",
    "      \n",
    "g.add((URIRef(wikidata['Q21821348']), RDF.type, RDF.Property))\n",
    "g.add((URIRef(wikidata['Q21821348']), RDFS.domain, player_uri))\n",
    "g.add((URIRef(wikidata['Q21821348']), RDFS.range, XSD.dateTime))\n",
    "g.add((URIRef(wikidata['Q21821348']), RDFS.label, Literal('birthyear')))\n"
   ]
  },
  {
   "cell_type": "code",
   "execution_count": 4,
   "metadata": {},
   "outputs": [],
   "source": [
    "# Add fifa properties that change every year \n",
    "\n",
    "dbpedia_properties = [ \"90s\", \"IntReputation\", \"Potential\", \"attackingworkrate\", \"contractuntil\",\n",
    "                       \"defending\", \"defensiveworkrate\", \"dribbling\", \"gkdiving\", \"gkhandling\",\n",
    "                       \"gkkicking\", \"gkpositioning\", \"gkreflexes\", \"matchesplayed\", \"minutes\",\n",
    "                       \"overallRating\", \"pace\", \"passing\", \"physicality\", \"shooting\", \"skillmoves\",\n",
    "                       \"starts\", \"value\" ]\n",
    "\n",
    "for prop in dbpedia_properties:\n",
    "    g.add((URIRef(dbpedia[prop]), RDF.type, RDF.Property))\n",
    "    g.add((URIRef(dbpedia[prop]), RDFS.domain, player_uri))\n",
    "    g.add((URIRef(dbpedia[prop]), RDFS.range, RDF.Seq))"
   ]
  },
  {
   "cell_type": "code",
   "execution_count": 5,
   "metadata": {},
   "outputs": [
    {
     "data": {
      "text/plain": [
       "<Graph identifier=N29de5d0e2146418aa1789015bef1a7b1 (<class 'rdflib.graph.Graph'>)>"
      ]
     },
     "execution_count": 5,
     "metadata": {},
     "output_type": "execute_result"
    }
   ],
   "source": [
    "# Add statistics properties that change every year\n",
    "\n",
    "sportsschema_properties = [ \"aerialsWon\", \"assistsTotal\", \"clearancesSuccessful\", \"foulsCommited\",\n",
    "                            \"foulsSuffered\", \"goalsTotal\", \"interceptions\", \"passesCompleteLong\",\n",
    "                            \"passesCompletePercentage\", \"shotsOnGoalTotal\", \"touches\" ]\n",
    "\n",
    "for prop in sportsschema_properties:\n",
    "    g.add((URIRef(sportsschema[prop]), RDF.type, RDF.Property))\n",
    "    g.add((URIRef(sportsschema[prop]), RDFS.domain, player_uri))\n",
    "    g.add((URIRef(sportsschema[prop]), RDFS.range, RDF.Seq))\n",
    "\n",
    "\n",
    "g.add((URIRef(wikidata['Property:P54']), RDF.type, RDF.Property))\n",
    "g.add((URIRef(wikidata['Property:P54']), RDFS.domain, player_uri))\n",
    "g.add((URIRef(wikidata['Property:P54']), RDFS.range, RDF.Seq))\n",
    "g.add((URIRef(wikidata['Property:P54']), RDFS.label, Literal('club')))"
   ]
  },
  {
   "cell_type": "code",
   "execution_count": null,
   "metadata": {
    "vscode": {
     "languageId": "ruby"
    }
   },
   "outputs": [
    {
     "data": {
      "text/plain": [
       "<Graph identifier=N29de5d0e2146418aa1789015bef1a7b1 (<class 'rdflib.graph.Graph'>)>"
      ]
     },
     "execution_count": 6,
     "metadata": {},
     "output_type": "execute_result"
    }
   ],
   "source": [
    "# Define a local namespace & make all properties and classes equivalent to make querying easier\n",
    "fb = Namespace(\"https://footballerontology.com\")\n",
    "g.bind(\"fb\", fb)\n",
    "\n",
    "# Link main player class\n",
    "g.add((sofifa.player, OWL.equivalentClass, fb.Player))\n",
    "\n",
    "# Link properties \n",
    "for prop in dbpedia_properties:\n",
    "    g.add((URIRef(dbpedia[prop]), OWL.equivalentProperty, URIRef(fb[prop])))\n",
    "\n",
    "for prop in sportsschema_properties:\n",
    "    g.add((URIRef(sportsschema[prop]), OWL.equivalentProperty, URIRef(fb[prop])))\n",
    "\n",
    "for key, value in constant_literals.items():\n",
    "    g.add((URIRef(wikidata[key]), OWL.equivalentProperty, URIRef(fb[value])))\n",
    "\n",
    "g.add((URIRef(wikidata['Property:P2048']), OWL.equivalentProperty, URIRef(fb['height'])))\n",
    "g.add((URIRef(wikidata['Property:P54']), OWL.equivalentProperty, URIRef(fb['club'])))\n",
    "g.add((URIRef(wikidata['Q21821348']), OWL.equivalentProperty, URIRef(fb['birthyear'])))\n",
    "\n",
    "g.serialize(destination='../kg/schema.ttl', format='turtle')"
   ]
  },
  {
   "cell_type": "markdown",
   "metadata": {},
   "source": [
    "#### Step 2: Populate KG "
   ]
  },
  {
   "cell_type": "code",
   "execution_count": null,
   "metadata": {},
   "outputs": [],
   "source": []
  }
 ],
 "metadata": {
  "kernelspec": {
   "display_name": "bmkg",
   "language": "python",
   "name": "python3"
  },
  "language_info": {
   "codemirror_mode": {
    "name": "ipython",
    "version": 3
   },
   "file_extension": ".py",
   "mimetype": "text/x-python",
   "name": "python",
   "nbconvert_exporter": "python",
   "pygments_lexer": "ipython3",
   "version": "3.9.21"
  }
 },
 "nbformat": 4,
 "nbformat_minor": 2
}
