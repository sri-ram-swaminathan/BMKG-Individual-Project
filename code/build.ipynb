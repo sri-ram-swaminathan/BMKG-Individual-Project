{
 "cells": [
  {
   "cell_type": "markdown",
   "metadata": {},
   "source": [
    "#### Step 1: Define ontology \n",
    "\n",
    "I chose to have only one class for all players, https://dbpedia.org/page/Football_player \n",
    "\n",
    "The case can be made that each position can be a different class. This is possible because dbpedia does indeed have different classes for each position. I chose not to do this because:\n",
    "\n",
    "(1) Many statistics and properties are shared between both types of players (club, matches played, starts, etc.)\n",
    "\n",
    "(2) For my use case, which is predicting which players will be at the same club at a given year, the type of player shouldn't make a difference to the predictions.  \n",
    "\n",
    "(3) Based on the way I have cleaned the data, there can be no inconsistencies. That is, outfield players cannot have goalkeeper statistics and vice versa.  \n",
    "\n",
    "Cons:\n",
    "\n",
    "(1) Different players share the same super class. Which means there is a compromise in the semantics, since I chose to ignore subclasses that exist.\n",
    "\n",
    "Note: queries can be made to find goalkeepers or other positions, it would just be querying the property BestPosition of each player, instead of type of node itself. "
   ]
  },
  {
   "cell_type": "markdown",
   "metadata": {},
   "source": [
    "#### Step 2: Populate KG "
   ]
  }
 ],
 "metadata": {
  "language_info": {
   "name": "python"
  }
 },
 "nbformat": 4,
 "nbformat_minor": 2
}
