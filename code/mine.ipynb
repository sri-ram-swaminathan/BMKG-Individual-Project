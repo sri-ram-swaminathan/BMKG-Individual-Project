{
 "cells": [
  {
   "cell_type": "code",
   "execution_count": 1,
   "metadata": {},
   "outputs": [
    {
     "name": "stdout",
     "output_type": "stream",
     "text": [
      "2.6.0+cpu\n"
     ]
    }
   ],
   "source": [
    "import torch\n",
    "from torch import Tensor\n",
    "import torch.nn as nn\n",
    "import matplotlib.pyplot as plt\n",
    "from sklearn.decomposition import PCA\n",
    "from rdflib import Graph, Namespace\n",
    "import numpy as np\n",
    "\n",
    "\n",
    "print(torch.__version__)"
   ]
  },
  {
   "cell_type": "markdown",
   "metadata": {},
   "source": [
    "#### Step 1: Graph embeddings and visualization"
   ]
  },
  {
   "cell_type": "code",
   "execution_count": 6,
   "metadata": {},
   "outputs": [
    {
     "ename": "BadSyntax",
     "evalue": "at line 80452 of <>:\nBad syntax (objectList expected) at ^ in:\n\"...b'> a fb:player ;\\n    fb:aerialswon \"1.07\"^^xsd:float,\\n       '^b' \"1.48\"^^xsd:float ;\\n    fb:assiststotal \"0.0\"^^xsd:float,\\n '...\"",
     "output_type": "error",
     "traceback": [
      "Traceback \u001b[1;36m(most recent call last)\u001b[0m:\n",
      "\u001b[0m  File \u001b[0;32mc:\\Users\\srira\\miniconda3\\envs\\bmkg\\lib\\site-packages\\IPython\\core\\interactiveshell.py:3550\u001b[0m in \u001b[0;35mrun_code\u001b[0m\n    exec(code_obj, self.user_global_ns, self.user_ns)\u001b[0m\n",
      "\u001b[0m  Cell \u001b[0;32mIn[6], line 3\u001b[0m\n    g.parse(\"../kg/players.ttl\")\u001b[0m\n",
      "\u001b[0m  File \u001b[0;32mc:\\Users\\srira\\miniconda3\\envs\\bmkg\\lib\\site-packages\\rdflib\\graph.py:1551\u001b[0m in \u001b[0;35mparse\u001b[0m\n    raise se\u001b[0m\n",
      "\u001b[0m  File \u001b[0;32mc:\\Users\\srira\\miniconda3\\envs\\bmkg\\lib\\site-packages\\rdflib\\graph.py:1542\u001b[0m in \u001b[0;35mparse\u001b[0m\n    parser.parse(source, self, **args)\u001b[0m\n",
      "\u001b[0m  File \u001b[0;32mc:\\Users\\srira\\miniconda3\\envs\\bmkg\\lib\\site-packages\\rdflib\\plugins\\parsers\\notation3.py:2020\u001b[0m in \u001b[0;35mparse\u001b[0m\n    p.loadStream(stream)\u001b[0m\n",
      "\u001b[0m  File \u001b[0;32mc:\\Users\\srira\\miniconda3\\envs\\bmkg\\lib\\site-packages\\rdflib\\plugins\\parsers\\notation3.py:479\u001b[0m in \u001b[0;35mloadStream\u001b[0m\n    return self.loadBuf(stream.read())  # Not ideal\u001b[0m\n",
      "\u001b[0m  File \u001b[0;32mc:\\Users\\srira\\miniconda3\\envs\\bmkg\\lib\\site-packages\\rdflib\\plugins\\parsers\\notation3.py:485\u001b[0m in \u001b[0;35mloadBuf\u001b[0m\n    self.feed(buf)\u001b[0m\n",
      "\u001b[0m  File \u001b[0;32mc:\\Users\\srira\\miniconda3\\envs\\bmkg\\lib\\site-packages\\rdflib\\plugins\\parsers\\notation3.py:511\u001b[0m in \u001b[0;35mfeed\u001b[0m\n    i = self.directiveOrStatement(s, j)\u001b[0m\n",
      "\u001b[0m  File \u001b[0;32mc:\\Users\\srira\\miniconda3\\envs\\bmkg\\lib\\site-packages\\rdflib\\plugins\\parsers\\notation3.py:530\u001b[0m in \u001b[0;35mdirectiveOrStatement\u001b[0m\n    j = self.statement(argstr, i)\u001b[0m\n",
      "\u001b[0m  File \u001b[0;32mc:\\Users\\srira\\miniconda3\\envs\\bmkg\\lib\\site-packages\\rdflib\\plugins\\parsers\\notation3.py:778\u001b[0m in \u001b[0;35mstatement\u001b[0m\n    j = self.property_list(argstr, i, r[0])\u001b[0m\n",
      "\u001b[0m  File \u001b[0;32mc:\\Users\\srira\\miniconda3\\envs\\bmkg\\lib\\site-packages\\rdflib\\plugins\\parsers\\notation3.py:1142\u001b[0m in \u001b[0;35mproperty_list\u001b[0m\n    self.BadSyntax(argstr, j, \"objectList expected\")\u001b[0m\n",
      "\u001b[1;36m  File \u001b[1;32mc:\\Users\\srira\\miniconda3\\envs\\bmkg\\lib\\site-packages\\rdflib\\plugins\\parsers\\notation3.py:1730\u001b[1;36m in \u001b[1;35mBadSyntax\u001b[1;36m\n\u001b[1;33m    raise BadSyntax(self._thisDoc, self.lines, argstr, i, msg)\u001b[1;36m\n",
      "\u001b[1;36m  File \u001b[1;32m<string>\u001b[1;36m\u001b[0m\n\u001b[1;31mBadSyntax\u001b[0m\n"
     ]
    }
   ],
   "source": [
    "# Load graph \n",
    "g = Graph()\n",
    "g.parse(\"../kg/players.ttl\")\n",
    "\n",
    "# Define namespace and bind to graph\n",
    "fb = Namespace(\"https://footballerontology.com\")\n",
    "g.bind(\"fb\", fb)\n",
    "\n",
    "print(f\"The graph has {len(g)} triples\")"
   ]
  },
  {
   "cell_type": "markdown",
   "metadata": {},
   "source": [
    "#### Step 3: Train-test split"
   ]
  },
  {
   "cell_type": "markdown",
   "metadata": {},
   "source": [
    "#### Step 4: Train GNN and tune hyperparameter "
   ]
  },
  {
   "cell_type": "markdown",
   "metadata": {},
   "source": [
    "#### Step 5: Make predictions on test set"
   ]
  }
 ],
 "metadata": {
  "kernelspec": {
   "display_name": "bmkg",
   "language": "python",
   "name": "python3"
  },
  "language_info": {
   "codemirror_mode": {
    "name": "ipython",
    "version": 3
   },
   "file_extension": ".py",
   "mimetype": "text/x-python",
   "name": "python",
   "nbconvert_exporter": "python",
   "pygments_lexer": "ipython3",
   "version": "3.9.21"
  }
 },
 "nbformat": 4,
 "nbformat_minor": 2
}
