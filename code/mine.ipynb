{
 "cells": [
  {
   "cell_type": "code",
   "execution_count": 1,
   "metadata": {},
   "outputs": [
    {
     "name": "stdout",
     "output_type": "stream",
     "text": [
      "1.13.1+cpu\n"
     ]
    }
   ],
   "source": [
    "import torch\n",
    "from torch import Tensor\n",
    "import torch.nn as nn\n",
    "import torch.optim as optim\n",
    "from rdflib import Graph, Namespace, URIRef, RDF\n",
    "import numpy as np\n",
    "import pandas as pd\n",
    "from sklearn.model_selection import train_test_split\n",
    "from sklearn.metrics import accuracy_score\n",
    "from sklearn.linear_model import LogisticRegression\n",
    "\n",
    "print(torch.__version__)"
   ]
  },
  {
   "cell_type": "markdown",
   "metadata": {},
   "source": [
    "#### Step 1: Data Analysis using SPARQL Queries"
   ]
  },
  {
   "cell_type": "code",
   "execution_count": 2,
   "metadata": {},
   "outputs": [
    {
     "name": "stdout",
     "output_type": "stream",
     "text": [
      "The number of players in the graph is: 1145\n"
     ]
    }
   ],
   "source": [
    "g = Graph()\n",
    "g.parse(\"../kg/players.ttl\")\n",
    "\n",
    "fb = Namespace(\"https://footballerontology.com/\")\n",
    "g.bind(\"fb\", fb)\n",
    "\n",
    "num_players = len({s for s, _, _ in g.triples((None, RDF.type, fb.player))})\n",
    "print(f\"The number of players in the graph is: {num_players}\")"
   ]
  },
  {
   "cell_type": "markdown",
   "metadata": {},
   "source": [
    "##### (a) Data quality assessment queries\n",
    "\n"
   ]
  },
  {
   "cell_type": "code",
   "execution_count": 3,
   "metadata": {},
   "outputs": [
    {
     "name": "stdout",
     "output_type": "stream",
     "text": [
      "Players with missing attributes:\n",
      "(no results)\n",
      "\n"
     ]
    }
   ],
   "source": [
    "# Query 1: Check for players with missing attribute links \n",
    "\n",
    "q1 = \"\"\"\n",
    "PREFIX fb: <https://footballerontology.com/>\n",
    "\n",
    "SELECT ?player\n",
    "WHERE {\n",
    "    ?player a fb:player .\n",
    "    FILTER NOT EXISTS { ?player ?attribute ?value}\n",
    "}\n",
    "\"\"\"\n",
    "\n",
    "results1 = g.query(q1)\n",
    "print(\"Players with missing attributes:\")\n",
    "print(results1.serialize(format='txt').decode('utf-8'))"
   ]
  },
  {
   "cell_type": "code",
   "execution_count": 4,
   "metadata": {},
   "outputs": [
    {
     "name": "stdout",
     "output_type": "stream",
     "text": [
      "Incorrect literal datatype: \n",
      "(no results)\n",
      "\n"
     ]
    }
   ],
   "source": [
    "# Query 2: Find all literals whose datatype does not match range of predicate\n",
    "\n",
    "q2 = \"\"\" \n",
    "\n",
    "PREFIX fb: <https://footballerontology.com/>\n",
    "PREFIX rdfs: <http://www.w3.org/2000/01/rdf-schema#>\n",
    "\n",
    "SELECT ?player ?attribute ?value ?expectedDatatype ?actualDatatype\n",
    "WHERE {\n",
    "    ?player ?attribute ?value .\n",
    "    ?attribute rdfs:range ?expectedDatatype .\n",
    "    \n",
    "    FILTER (isLiteral(?value))\n",
    "    BIND (datatype(?value) AS ?actualDatatype)\n",
    "\n",
    "    # Ensure only incorrect datatypes are returned\n",
    "    FILTER (?expectedDatatype != ?actualDatatype)\n",
    "}\n",
    "\n",
    "\"\"\"\n",
    "\n",
    "results2 = g.query(q2)\n",
    "print(\"Incorrect literal datatype: \")\n",
    "print(results2.serialize(format='txt').decode('utf-8'))"
   ]
  },
  {
   "cell_type": "code",
   "execution_count": 5,
   "metadata": {},
   "outputs": [
    {
     "name": "stdout",
     "output_type": "stream",
     "text": [
      "Players with non-sensical birth years:\n",
      "(no results)\n",
      "\n"
     ]
    }
   ],
   "source": [
    "# Query 3: Find inconsistent birth years \n",
    "\n",
    "q3 = \"\"\"\n",
    "PREFIX fb: <https://footballerontology.com/>\n",
    "SELECT ?player ?birthyear\n",
    "WHERE {\n",
    "  ?player a fb:player ;\n",
    "          fb:birthyear ?birthyear .\n",
    "  FILTER (?birthyear < 1900 || ?birthyear > 2023)\n",
    "}\n",
    "\"\"\"\n",
    "\n",
    "results3 = g.query(q3)\n",
    "print(\"Players with non-sensical birth years:\")\n",
    "print(results3.serialize(format='txt').decode('utf-8'))"
   ]
  },
  {
   "cell_type": "code",
   "execution_count": 6,
   "metadata": {},
   "outputs": [
    {
     "name": "stdout",
     "output_type": "stream",
     "text": [
      "Triples with NaN values:\n",
      "                        subject                         |                   predicate                   |                    object                     \n",
      "---------------------------------------------------------------------------------------------------------------------------------------------------------\n",
      "<https://footballerontology.com/contractuntilSeq/247026>|<http://www.w3.org/1999/02/22-rdf-syntax-ns#_1>|\"NaN\"^^<http://www.w3.org/2001/XMLSchema#float>\n",
      "\n"
     ]
    }
   ],
   "source": [
    "# Query 4: Find any attributes with missing values \n",
    "\n",
    "q4 = \"\"\"\n",
    "PREFIX fb: <https://footballerontology.com/>\n",
    "\n",
    "SELECT ?subject ?predicate ?object\n",
    "WHERE {\n",
    "    ?subject ?predicate ?object .\n",
    "    FILTER (str(?object) = \"NaN\" || str(?object) = \"nan\")\n",
    "}\n",
    "\"\"\"\n",
    "\n",
    "results4 = g.query(q4)\n",
    "print(\"Triples with NaN values:\")\n",
    "print(results4.serialize(format='txt').decode('utf-8'))"
   ]
  },
  {
   "cell_type": "code",
   "execution_count": 7,
   "metadata": {},
   "outputs": [
    {
     "name": "stdout",
     "output_type": "stream",
     "text": [
      "Duplicate players:\n",
      "(no results)\n",
      "\n"
     ]
    }
   ],
   "source": [
    "# Query 5: Find any duplicate players\n",
    "\n",
    "q5 = \"\"\"\n",
    "PREFIX fb: <https://footballerontology.com/>\n",
    "PREFIX rdf: <http://www.w3.org/1999/02/22-rdf-syntax-ns#>\n",
    "\n",
    "SELECT ?player (COUNT(?player) AS ?count)\n",
    "WHERE {\n",
    "    ?player a fb:player .\n",
    "}\n",
    "GROUP BY ?player\n",
    "HAVING (COUNT(?subject) > 1)\n",
    "\"\"\"\n",
    "\n",
    "results5 = g.query(q5)\n",
    "print(\"Duplicate players:\")\n",
    "print(results5.serialize(format='txt').decode('utf-8'))"
   ]
  },
  {
   "cell_type": "markdown",
   "metadata": {},
   "source": [
    "##### (b) Inference queries"
   ]
  },
  {
   "cell_type": "code",
   "execution_count": 8,
   "metadata": {},
   "outputs": [
    {
     "name": "stdout",
     "output_type": "stream",
     "text": [
      "Most improved players by passing rating and their growth in passes completed percentage:\n",
      "        name        |              overallRatingGrowth               |                     passesCompletedGrowth                     \n",
      "--------------------------------------------------------------------------------------------------------------------------------------\n",
      "\"Anthony Gordon\"    |\"12\"^^<http://www.w3.org/2001/XMLSchema#integer>|\"14.599999999999994\"^^<http://www.w3.org/2001/XMLSchema#float> \n",
      "\"Castello Lukeba\"   |\"15\"^^<http://www.w3.org/2001/XMLSchema#integer>|\"-1.9000000000000057\"^^<http://www.w3.org/2001/XMLSchema#float>\n",
      "\"Gianluca Scamacca\" |\"12\"^^<http://www.w3.org/2001/XMLSchema#integer>|\"-7.8999999999999915\"^^<http://www.w3.org/2001/XMLSchema#float>\n",
      "\"Hugo Ekitike\"      |\"13\"^^<http://www.w3.org/2001/XMLSchema#integer>|\"11.800000000000011\"^^<http://www.w3.org/2001/XMLSchema#float> \n",
      "\"Luca Ranieri\"      |\"16\"^^<http://www.w3.org/2001/XMLSchema#integer>|\"8.700000000000003\"^^<http://www.w3.org/2001/XMLSchema#float>  \n",
      "\"Mattia Viti\"       |\"12\"^^<http://www.w3.org/2001/XMLSchema#integer>|\"0.5\"^^<http://www.w3.org/2001/XMLSchema#float>                \n",
      "\"Nadir Zortea\"      |\"13\"^^<http://www.w3.org/2001/XMLSchema#integer>|\"-4.299999999999997\"^^<http://www.w3.org/2001/XMLSchema#float> \n",
      "\"Nico Schlotterbeck\"|\"18\"^^<http://www.w3.org/2001/XMLSchema#integer>|\"3.799999999999997\"^^<http://www.w3.org/2001/XMLSchema#float>  \n",
      "\"Patrick Osterhage\" |\"12\"^^<http://www.w3.org/2001/XMLSchema#integer>|\"-13.599999999999994\"^^<http://www.w3.org/2001/XMLSchema#float>\n",
      "\"Warmed Omari\"      |\"12\"^^<http://www.w3.org/2001/XMLSchema#integer>|\"0.0\"^^<http://www.w3.org/2001/XMLSchema#float>                \n",
      "\n"
     ]
    }
   ],
   "source": [
    "# Query 6: Find the most improved players by passing rating and their passes completed percentage \n",
    "\n",
    "q6 = \"\"\"\n",
    "PREFIX fb: <https://footballerontology.com/>\n",
    "PREFIX rdf: <http://www.w3.org/1999/02/22-rdf-syntax-ns#>\n",
    "\n",
    "SELECT ?name ?overallRatingGrowth ?passesCompletedGrowth\n",
    "WHERE {\n",
    "    ?player a fb:player ;\n",
    "            fb:name ?name ;\n",
    "            fb:passing ?passingSeq ;\n",
    "            fb:passescompletepercentage ?passescompletepercentageSeq .\n",
    "    \n",
    "    ?passingSeq rdf:_1 ?initialRating ;\n",
    "                rdf:_2 ?finalRating .\n",
    "    BIND((?finalRating - ?initialRating) AS ?overallRatingGrowth)\n",
    "    \n",
    "    ?passescompletepercentageSeq rdf:_1 ?initialStat ;\n",
    "                                 rdf:_2 ?finalStat .\n",
    "    BIND((?finalStat - ?initialStat) AS ?passesCompletedGrowth)\n",
    "}\n",
    "ORDER BY DESC(?overallRatingGrowth)\n",
    "LIMIT 10\n",
    "\"\"\"\n",
    "\n",
    "results6 = g.query(q6)\n",
    "print(\"Most improved players by passing rating and their growth in passes completed percentage:\")\n",
    "print(results6.serialize(format='txt').decode('utf-8'))\n"
   ]
  },
  {
   "cell_type": "code",
   "execution_count": 4,
   "metadata": {},
   "outputs": [
    {
     "name": "stdout",
     "output_type": "stream",
     "text": [
      "Players whose FIFA rating dropped despite improvement in real life (shooting attribute):\n",
      "        name         |                 fifaRatingDiff                 |                        shotsOnGoalDiff                        \n",
      "---------------------------------------------------------------------------------------------------------------------------------------\n",
      "\"Alexandre Lacazette\"|\"-1\"^^<http://www.w3.org/2001/XMLSchema#integer>|\"0.7899999999999999\"^^<http://www.w3.org/2001/XMLSchema#float> \n",
      "\"Antoine Griezmann\"  |\"-2\"^^<http://www.w3.org/2001/XMLSchema#integer>|\"1.49\"^^<http://www.w3.org/2001/XMLSchema#float>               \n",
      "\"Arkadiusz Milik\"    |\"-2\"^^<http://www.w3.org/2001/XMLSchema#integer>|\"0.24\"^^<http://www.w3.org/2001/XMLSchema#float>               \n",
      "\"Fabio Quagliarella\" |\"-3\"^^<http://www.w3.org/2001/XMLSchema#integer>|\"0.71\"^^<http://www.w3.org/2001/XMLSchema#float>               \n",
      "\"Lars Stindl\"        |\"-5\"^^<http://www.w3.org/2001/XMLSchema#integer>|\"0.24\"^^<http://www.w3.org/2001/XMLSchema#float>               \n",
      "\"Lionel Messi\"       |\"-3\"^^<http://www.w3.org/2001/XMLSchema#integer>|\"0.77\"^^<http://www.w3.org/2001/XMLSchema#float>               \n",
      "\"Marcel Sabitzer\"    |\"-3\"^^<http://www.w3.org/2001/XMLSchema#integer>|\"1.0\"^^<http://www.w3.org/2001/XMLSchema#float>                \n",
      "\"Marcus Rashford\"    |\"-2\"^^<http://www.w3.org/2001/XMLSchema#integer>|\"0.43000000000000005\"^^<http://www.w3.org/2001/XMLSchema#float>\n",
      "\"Romelu Lukaku\"      |\"-2\"^^<http://www.w3.org/2001/XMLSchema#integer>|\"0.18000000000000005\"^^<http://www.w3.org/2001/XMLSchema#float>\n",
      "\"Youssef En-Nesyri\"  |\"-3\"^^<http://www.w3.org/2001/XMLSchema#integer>|\"0.61\"^^<http://www.w3.org/2001/XMLSchema#float>               \n",
      "\n"
     ]
    }
   ],
   "source": [
    "# Query 7 : Find players whose shooting rating in FIFA dropped despite improvement in shots on goals \n",
    "\n",
    "q7 = \"\"\"\n",
    "PREFIX fb: <https://footballerontology.com/>\n",
    "PREFIX rdf: <http://www.w3.org/1999/02/22-rdf-syntax-ns#>\n",
    "\n",
    "SELECT ?name ?fifaRatingDiff ?shotsOnGoalDiff\n",
    "WHERE {\n",
    "    ?player a fb:player ;\n",
    "            fb:name ?name ;\n",
    "            fb:shotsongoaltotal ?shotsongoalSeq ;\n",
    "            fb:shooting ?shootingSeq .\n",
    "\n",
    "    ?shootingSeq rdf:_1 ?initialFifaRating ;\n",
    "               rdf:_2 ?finalFifaRating .\n",
    "\n",
    "    ?shotsongoalSeq rdf:_1 ?initialSoT ;\n",
    "                 rdf:_2 ?finalSoT .\n",
    "\n",
    "    BIND((?finalFifaRating - ?initialFifaRating) AS ?fifaRatingDiff)\n",
    "    BIND((?finalSoT - ?initialSoT) AS ?shotsOnGoalDiff)\n",
    "\n",
    "    FILTER (?fifaRatingDiff < 0 && ?shotsOnGoalDiff > 0)\n",
    "}\n",
    "ORDER BY DESC(?initialFifaRating)\n",
    "LIMIT 10\n",
    "\"\"\"\n",
    "\n",
    "results7 = g.query(q7)\n",
    "print(\"Players whose FIFA rating dropped despite improvement in real life (shooting attribute):\")\n",
    "print(results7.serialize(format='txt').decode('utf-8')) "
   ]
  },
  {
   "cell_type": "code",
   "execution_count": 7,
   "metadata": {},
   "outputs": [
    {
     "name": "stdout",
     "output_type": "stream",
     "text": [
      "Most expensive players in 2021 whose values dropped in 2022 and their overall rating difference:\n",
      "        team         |          name          |                       valueDiff                       |                  ratingDiff                   \n",
      "-------------------------------------------------------------------------------------------------------------------------------------------------------\n",
      "\"Atlético de Madrid\" |\"Jan Oblak\"             |\"26500000.0\"^^<http://www.w3.org/2001/XMLSchema#float> |\"2\"^^<http://www.w3.org/2001/XMLSchema#integer>\n",
      "\"FC Barcelona\"       |\"Frenkie de Jong\"       |\"3000000.0\"^^<http://www.w3.org/2001/XMLSchema#float>  |\"0\"^^<http://www.w3.org/2001/XMLSchema#integer>\n",
      "\"FC Bayern München\"  |\"Robert Lewandowski\"    |\"35500000.0\"^^<http://www.w3.org/2001/XMLSchema#float> |\"1\"^^<http://www.w3.org/2001/XMLSchema#integer>\n",
      "\"Liverpool\"          |\"Trent Alexander-Arnold\"|\"13500000.0\"^^<http://www.w3.org/2001/XMLSchema#float> |\"0\"^^<http://www.w3.org/2001/XMLSchema#integer>\n",
      "\"Manchester City\"    |\"Erling Haaland\"        |\"-10500000.0\"^^<http://www.w3.org/2001/XMLSchema#float>|\"0\"^^<http://www.w3.org/2001/XMLSchema#integer>\n",
      "\"Manchester City\"    |\"Kevin De Bruyne\"       |\"18000000.0\"^^<http://www.w3.org/2001/XMLSchema#float> |\"0\"^^<http://www.w3.org/2001/XMLSchema#integer>\n",
      "\"Manchester United\"  |\"Jadon Sancho\"          |\"55000000.0\"^^<http://www.w3.org/2001/XMLSchema#float> |\"3\"^^<http://www.w3.org/2001/XMLSchema#integer>\n",
      "\"Paris Saint-Germain\"|\"Gianluigi Donnarumma\"  |\"16000000.0\"^^<http://www.w3.org/2001/XMLSchema#float> |\"1\"^^<http://www.w3.org/2001/XMLSchema#integer>\n",
      "\"Paris Saint-Germain\"|\"Kylian Mbappé\"         |\"3500000.0\"^^<http://www.w3.org/2001/XMLSchema#float>  |\"0\"^^<http://www.w3.org/2001/XMLSchema#integer>\n",
      "\"Tottenham Hotspur\"  |\"Harry Kane\"            |\"24000000.0\"^^<http://www.w3.org/2001/XMLSchema#float> |\"1\"^^<http://www.w3.org/2001/XMLSchema#integer>\n",
      "\n"
     ]
    }
   ],
   "source": [
    "# Query 8: Find the teams with most expensive players in 2021 whose value dropped next year and their overall rating difference\n",
    "\n",
    "q8 = \"\"\"\n",
    "PREFIX fb: <https://footballerontology.com/>\n",
    "PREFIX rdf: <http://www.w3.org/1999/02/22-rdf-syntax-ns#>\n",
    "\n",
    "SELECT ?team ?name ?valueDiff ?ratingDiff\n",
    "WHERE {\n",
    "    ?player a fb:player ;\n",
    "            fb:club ?clubSeq ;\n",
    "            fb:value ?valueSeq ;\n",
    "            fb:overallrating ?ratingSeq ;\n",
    "            fb:name ?name.\n",
    "    ?clubSeq rdf:_1 ?initialTeam ;\n",
    "             rdf:_2 ?finalTeam .\n",
    "    ?valueSeq rdf:_1 ?initialValue ;\n",
    "              rdf:_2 ?finalValue .\n",
    "    ?ratingSeq rdf:_1 ?initialRating ;\n",
    "               rdf:_2 ?finalRating .\n",
    "    BIND(IF(?initialValue > ?finalValue, ?initialTeam, ?finalTeam) AS ?team)\n",
    "    BIND((?initialValue - ?finalValue) AS ?valueDiff)\n",
    "    BIND((?initialRating - ?finalRating) AS ?ratingDiff)\n",
    "}\n",
    "ORDER BY DESC(?initialValue)\n",
    "LIMIT 10\n",
    "\"\"\"\n",
    "\n",
    "results8 = g.query(q8)\n",
    "print(\"Most expensive players in 2021 whose values dropped in 2022 and their overall rating difference:\")\n",
    "print(results8.serialize(format='txt').decode('utf-8'))"
   ]
  },
  {
   "cell_type": "markdown",
   "metadata": {},
   "source": [
    "#### Step 2: Vectorize data"
   ]
  },
  {
   "cell_type": "markdown",
   "metadata": {},
   "source": [
    "I want to store the difference in player performance over 2 seasons. This is the metric that makes the difference. If a player performs significantly worse than the previous season, he is released by the club. On the other end, if a player performs significantly better, he is sought after by bigger and better clubs that can afford him. In general, this rule holds true.  \n",
    "\n",
    "There are a lot of things that determine a player transfer, and there is no simple linear relationship between the features and the outcome. I will compare two models for this prediction task, simple logistics regression and a vanilla neural network. "
   ]
  },
  {
   "cell_type": "code",
   "execution_count": 11,
   "metadata": {},
   "outputs": [],
   "source": [
    "# Create dictionary that holds player id along with {attribute : change in value}\n",
    "players = {}\n",
    "\n",
    "# Get all player URIs\n",
    "playerids = g.subjects(RDF.type, fb.player)\n",
    "\n",
    "for player in playerids:\n",
    "    # Extract player ID from URI\n",
    "    player_id = player.split('/')[-1]\n",
    "    player_data = {}\n",
    "    \n",
    "    # Process each predicate (attribute) of the player\n",
    "    for predicate in g.predicates(subject=player):\n",
    "        obj = g.value(subject=player, predicate=predicate)\n",
    "        if isinstance(obj, URIRef):  # Check if the object is a sequence URI\n",
    "            attr_name = predicate.split('/')[-1]  # Extract attribute name\n",
    "            seq_uri = obj\n",
    "            \n",
    "            # Get the two values from the sequence\n",
    "            v1 = g.value(seq_uri, RDF._1)\n",
    "            v2 = g.value(seq_uri, RDF._2)\n",
    "            \n",
    "            if v1 is not None and v2 is not None:\n",
    "                try:\n",
    "                    diff = float(v2) - float(v1)\n",
    "                    player_data[attr_name] = [diff]\n",
    "                except (ValueError, TypeError):\n",
    "                    # Skip values that are non-numeric (name, nationality, height, ... these are confounders)\n",
    "                    pass\n",
    "    \n",
    "    # Create dropped feature based on player's club values\n",
    "    club_seq = g.value(player, fb.club)\n",
    "    dropped = 0\n",
    "    if club_seq:\n",
    "        c1 = g.value(club_seq, RDF._1)\n",
    "        c2 = g.value(club_seq, RDF._2)\n",
    "        if c1 is not None and c2 is not None and c1 != c2:\n",
    "            dropped = 1\n",
    "    player_data['dropped'] = [dropped]\n",
    "    \n",
    "    players[player_id] = player_data\n"
   ]
  },
  {
   "cell_type": "code",
   "execution_count": 12,
   "metadata": {},
   "outputs": [
    {
     "name": "stdout",
     "output_type": "stream",
     "text": [
      "106795: {'aerialswon': [0.0], 'clearancessuccessful': [0.5], 'contractuntil': [1.0], 'foulscommitted': [0.0], 'foulssuffered': [0.5], 'fts': [1.0], 'gkdiving': [0.0], 'gkhandling': [0.0], 'gkkicking': [0.0], 'gkpositioning': [0.0], 'gkreflexes': [0.0], 'intreputation': [0.0], 'matchesplayed': [1.0], 'minutes': [90.0], 'overallrating': [0.0], 'passescompletelong': [-2.5], 'passescompletepercentage': [-2.200000000000003], 'potential': [0.0], 'starts': [1.0], 'touches': [4.5], 'value': [0.0], 'dropped': [0]}\n",
      "138412: {'aerialswon': [-0.32000000000000006], 'assiststotal': [0.05], 'clearancessuccessful': [-0.8399999999999999], 'contractuntil': [1.0], 'defending': [0.0], 'dribbling': [-1.0], 'foulscommitted': [-0.6400000000000001], 'foulssuffered': [-0.7999999999999998], 'fts': [-3.4000000000000004], 'goalstotal': [0.0], 'interceptions': [-0.6799999999999999], 'intreputation': [0.0], 'matchesplayed': [-10.0], 'minutes': [-307.0], 'overallrating': [-1.0], 'pace': [-4.0], 'passescompletelong': [-4.1], 'passescompletepercentage': [-9.200000000000003], 'passing': [-1.0], 'physicality': [-1.0], 'potential': [-1.0], 'shooting': [0.0], 'shotsongoaltotal': [-0.04999999999999999], 'skillmoves': [0.0], 'starts': [-4.0], 'touches': [-10.799999999999997], 'value': [-2600000.0], 'dropped': [0]}\n"
     ]
    }
   ],
   "source": [
    "for i, (key, value) in enumerate(players.items()):\n",
    "        if i >= 2:\n",
    "            break\n",
    "        print(f\"{key}: {value}\")"
   ]
  },
  {
   "cell_type": "markdown",
   "metadata": {},
   "source": [
    "I now have a representation where each player has only one value per attribute, and this value is the difference in performance over one year. High performers will have large attribute values, players who got worse will have negative values & players who haven't improved will have 0 values. "
   ]
  },
  {
   "cell_type": "code",
   "execution_count": 13,
   "metadata": {},
   "outputs": [
    {
     "data": {
      "text/plain": [
       "['aerialswon',\n",
       " 'assiststotal',\n",
       " 'clearancessuccessful',\n",
       " 'contractuntil',\n",
       " 'defending',\n",
       " 'dribbling',\n",
       " 'foulscommitted',\n",
       " 'foulssuffered',\n",
       " 'fts',\n",
       " 'gkdiving',\n",
       " 'gkhandling',\n",
       " 'gkkicking',\n",
       " 'gkpositioning',\n",
       " 'gkreflexes',\n",
       " 'goalstotal',\n",
       " 'interceptions',\n",
       " 'intreputation',\n",
       " 'matchesplayed',\n",
       " 'minutes',\n",
       " 'overallrating',\n",
       " 'pace',\n",
       " 'passescompletelong',\n",
       " 'passescompletepercentage',\n",
       " 'passing',\n",
       " 'physicality',\n",
       " 'potential',\n",
       " 'shooting',\n",
       " 'shotsongoaltotal',\n",
       " 'skillmoves',\n",
       " 'starts',\n",
       " 'touches',\n",
       " 'value']"
      ]
     },
     "execution_count": 13,
     "metadata": {},
     "output_type": "execute_result"
    }
   ],
   "source": [
    "# Order all the attributes, since they occur in different positions for goalkeeprs and outfield players\n",
    "# Remove 'dropped' feature since it is the target value\n",
    "\n",
    "all_attributes = set()\n",
    "for attributes in players.values():\n",
    "    all_attributes.update(attributes.keys())\n",
    "    all_attributes.discard('dropped')\n",
    "all_attributes = sorted(all_attributes)\n",
    "\n",
    "all_attributes"
   ]
  },
  {
   "cell_type": "code",
   "execution_count": 14,
   "metadata": {},
   "outputs": [
    {
     "data": {
      "text/html": [
       "<div>\n",
       "<style scoped>\n",
       "    .dataframe tbody tr th:only-of-type {\n",
       "        vertical-align: middle;\n",
       "    }\n",
       "\n",
       "    .dataframe tbody tr th {\n",
       "        vertical-align: top;\n",
       "    }\n",
       "\n",
       "    .dataframe thead th {\n",
       "        text-align: right;\n",
       "    }\n",
       "</style>\n",
       "<table border=\"1\" class=\"dataframe\">\n",
       "  <thead>\n",
       "    <tr style=\"text-align: right;\">\n",
       "      <th></th>\n",
       "      <th>aerialswon</th>\n",
       "      <th>assiststotal</th>\n",
       "      <th>clearancessuccessful</th>\n",
       "      <th>contractuntil</th>\n",
       "      <th>defending</th>\n",
       "      <th>dribbling</th>\n",
       "      <th>foulscommitted</th>\n",
       "      <th>foulssuffered</th>\n",
       "      <th>fts</th>\n",
       "      <th>gkdiving</th>\n",
       "      <th>...</th>\n",
       "      <th>passescompletepercentage</th>\n",
       "      <th>passing</th>\n",
       "      <th>physicality</th>\n",
       "      <th>potential</th>\n",
       "      <th>shooting</th>\n",
       "      <th>shotsongoaltotal</th>\n",
       "      <th>skillmoves</th>\n",
       "      <th>starts</th>\n",
       "      <th>touches</th>\n",
       "      <th>value</th>\n",
       "    </tr>\n",
       "  </thead>\n",
       "  <tbody>\n",
       "    <tr>\n",
       "      <th>106795</th>\n",
       "      <td>0.00</td>\n",
       "      <td>0.00</td>\n",
       "      <td>0.50</td>\n",
       "      <td>1.0</td>\n",
       "      <td>0.0</td>\n",
       "      <td>0.0</td>\n",
       "      <td>0.00</td>\n",
       "      <td>0.50</td>\n",
       "      <td>1.0</td>\n",
       "      <td>0.0</td>\n",
       "      <td>...</td>\n",
       "      <td>-2.2</td>\n",
       "      <td>0.0</td>\n",
       "      <td>0.0</td>\n",
       "      <td>0.0</td>\n",
       "      <td>0.0</td>\n",
       "      <td>0.00</td>\n",
       "      <td>0.0</td>\n",
       "      <td>1.0</td>\n",
       "      <td>4.5</td>\n",
       "      <td>0.0</td>\n",
       "    </tr>\n",
       "    <tr>\n",
       "      <th>138412</th>\n",
       "      <td>-0.32</td>\n",
       "      <td>0.05</td>\n",
       "      <td>-0.84</td>\n",
       "      <td>1.0</td>\n",
       "      <td>0.0</td>\n",
       "      <td>-1.0</td>\n",
       "      <td>-0.64</td>\n",
       "      <td>-0.80</td>\n",
       "      <td>-3.4</td>\n",
       "      <td>0.0</td>\n",
       "      <td>...</td>\n",
       "      <td>-9.2</td>\n",
       "      <td>-1.0</td>\n",
       "      <td>-1.0</td>\n",
       "      <td>-1.0</td>\n",
       "      <td>0.0</td>\n",
       "      <td>-0.05</td>\n",
       "      <td>0.0</td>\n",
       "      <td>-4.0</td>\n",
       "      <td>-10.8</td>\n",
       "      <td>-2600000.0</td>\n",
       "    </tr>\n",
       "    <tr>\n",
       "      <th>152908</th>\n",
       "      <td>-0.18</td>\n",
       "      <td>-0.14</td>\n",
       "      <td>1.00</td>\n",
       "      <td>1.0</td>\n",
       "      <td>3.0</td>\n",
       "      <td>-1.0</td>\n",
       "      <td>-0.38</td>\n",
       "      <td>-1.62</td>\n",
       "      <td>-0.7</td>\n",
       "      <td>0.0</td>\n",
       "      <td>...</td>\n",
       "      <td>-2.3</td>\n",
       "      <td>2.0</td>\n",
       "      <td>2.0</td>\n",
       "      <td>-4.0</td>\n",
       "      <td>-1.0</td>\n",
       "      <td>-0.07</td>\n",
       "      <td>0.0</td>\n",
       "      <td>3.0</td>\n",
       "      <td>11.8</td>\n",
       "      <td>-2900000.0</td>\n",
       "    </tr>\n",
       "    <tr>\n",
       "      <th>156616</th>\n",
       "      <td>-0.32</td>\n",
       "      <td>-0.13</td>\n",
       "      <td>-0.19</td>\n",
       "      <td>1.0</td>\n",
       "      <td>0.0</td>\n",
       "      <td>-3.0</td>\n",
       "      <td>-2.03</td>\n",
       "      <td>-0.28</td>\n",
       "      <td>-15.4</td>\n",
       "      <td>0.0</td>\n",
       "      <td>...</td>\n",
       "      <td>8.7</td>\n",
       "      <td>-1.0</td>\n",
       "      <td>0.0</td>\n",
       "      <td>-3.0</td>\n",
       "      <td>-2.0</td>\n",
       "      <td>-0.13</td>\n",
       "      <td>0.0</td>\n",
       "      <td>-16.0</td>\n",
       "      <td>12.8</td>\n",
       "      <td>-3400000.0</td>\n",
       "    </tr>\n",
       "    <tr>\n",
       "      <th>158023</th>\n",
       "      <td>-0.25</td>\n",
       "      <td>-0.02</td>\n",
       "      <td>0.00</td>\n",
       "      <td>0.0</td>\n",
       "      <td>0.0</td>\n",
       "      <td>-1.0</td>\n",
       "      <td>-0.16</td>\n",
       "      <td>-0.05</td>\n",
       "      <td>-6.4</td>\n",
       "      <td>0.0</td>\n",
       "      <td>...</td>\n",
       "      <td>-4.8</td>\n",
       "      <td>-1.0</td>\n",
       "      <td>-1.0</td>\n",
       "      <td>-2.0</td>\n",
       "      <td>-3.0</td>\n",
       "      <td>0.77</td>\n",
       "      <td>0.0</td>\n",
       "      <td>-6.0</td>\n",
       "      <td>-2.6</td>\n",
       "      <td>-24000000.0</td>\n",
       "    </tr>\n",
       "  </tbody>\n",
       "</table>\n",
       "<p>5 rows × 32 columns</p>\n",
       "</div>"
      ],
      "text/plain": [
       "        aerialswon  assiststotal  clearancessuccessful  contractuntil  \\\n",
       "106795        0.00          0.00                  0.50            1.0   \n",
       "138412       -0.32          0.05                 -0.84            1.0   \n",
       "152908       -0.18         -0.14                  1.00            1.0   \n",
       "156616       -0.32         -0.13                 -0.19            1.0   \n",
       "158023       -0.25         -0.02                  0.00            0.0   \n",
       "\n",
       "        defending  dribbling  foulscommitted  foulssuffered   fts  gkdiving  \\\n",
       "106795        0.0        0.0            0.00           0.50   1.0       0.0   \n",
       "138412        0.0       -1.0           -0.64          -0.80  -3.4       0.0   \n",
       "152908        3.0       -1.0           -0.38          -1.62  -0.7       0.0   \n",
       "156616        0.0       -3.0           -2.03          -0.28 -15.4       0.0   \n",
       "158023        0.0       -1.0           -0.16          -0.05  -6.4       0.0   \n",
       "\n",
       "        ...  passescompletepercentage  passing  physicality  potential  \\\n",
       "106795  ...                      -2.2      0.0          0.0        0.0   \n",
       "138412  ...                      -9.2     -1.0         -1.0       -1.0   \n",
       "152908  ...                      -2.3      2.0          2.0       -4.0   \n",
       "156616  ...                       8.7     -1.0          0.0       -3.0   \n",
       "158023  ...                      -4.8     -1.0         -1.0       -2.0   \n",
       "\n",
       "        shooting  shotsongoaltotal  skillmoves  starts  touches       value  \n",
       "106795       0.0              0.00         0.0     1.0      4.5         0.0  \n",
       "138412       0.0             -0.05         0.0    -4.0    -10.8  -2600000.0  \n",
       "152908      -1.0             -0.07         0.0     3.0     11.8  -2900000.0  \n",
       "156616      -2.0             -0.13         0.0   -16.0     12.8  -3400000.0  \n",
       "158023      -3.0              0.77         0.0    -6.0     -2.6 -24000000.0  \n",
       "\n",
       "[5 rows x 32 columns]"
      ]
     },
     "execution_count": 14,
     "metadata": {},
     "output_type": "execute_result"
    }
   ],
   "source": [
    "import pandas as pd\n",
    "\n",
    "# Assuming `players` is your dictionary of player data and `all_attributes` is the list of all possible attributes\n",
    "feature_matrix = []\n",
    "player_ids = []\n",
    "\n",
    "for player_id, attributes in players.items():\n",
    "    feature_vector = []\n",
    "    for attribute in all_attributes:\n",
    "        # Check if the attribute exists in the player's attributes and is not an empty list\n",
    "        if attribute in attributes and attributes[attribute]:\n",
    "            feature_vector.append(attributes[attribute][0])  # Assuming the attribute value is a list\n",
    "        else:\n",
    "            feature_vector.append(0)  # Append 0 if the attribute is missing or empty, since some properties are not shared between goalkeepers and outfield players \n",
    "    feature_matrix.append(feature_vector)\n",
    "    player_ids.append(player_id)\n",
    "\n",
    "\n",
    "X = pd.DataFrame(feature_matrix, index=player_ids, columns=all_attributes)\n",
    "# Drop the player with missing contract value \n",
    "\n",
    "X.head()"
   ]
  },
  {
   "cell_type": "code",
   "execution_count": 15,
   "metadata": {},
   "outputs": [
    {
     "data": {
      "text/html": [
       "<div>\n",
       "<style scoped>\n",
       "    .dataframe tbody tr th:only-of-type {\n",
       "        vertical-align: middle;\n",
       "    }\n",
       "\n",
       "    .dataframe tbody tr th {\n",
       "        vertical-align: top;\n",
       "    }\n",
       "\n",
       "    .dataframe thead th {\n",
       "        text-align: right;\n",
       "    }\n",
       "</style>\n",
       "<table border=\"1\" class=\"dataframe\">\n",
       "  <thead>\n",
       "    <tr style=\"text-align: right;\">\n",
       "      <th></th>\n",
       "      <th>dropped</th>\n",
       "    </tr>\n",
       "  </thead>\n",
       "  <tbody>\n",
       "    <tr>\n",
       "      <th>106795</th>\n",
       "      <td>0</td>\n",
       "    </tr>\n",
       "    <tr>\n",
       "      <th>138412</th>\n",
       "      <td>0</td>\n",
       "    </tr>\n",
       "    <tr>\n",
       "      <th>152908</th>\n",
       "      <td>0</td>\n",
       "    </tr>\n",
       "    <tr>\n",
       "      <th>156616</th>\n",
       "      <td>0</td>\n",
       "    </tr>\n",
       "    <tr>\n",
       "      <th>158023</th>\n",
       "      <td>0</td>\n",
       "    </tr>\n",
       "  </tbody>\n",
       "</table>\n",
       "</div>"
      ],
      "text/plain": [
       "        dropped\n",
       "106795        0\n",
       "138412        0\n",
       "152908        0\n",
       "156616        0\n",
       "158023        0"
      ]
     },
     "execution_count": 15,
     "metadata": {},
     "output_type": "execute_result"
    }
   ],
   "source": [
    "# Create target vector \n",
    "target_vector = [attributes['dropped'][0] for attributes in players.values()]\n",
    "y = pd.DataFrame(target_vector, index=player_ids, columns=['dropped'])\n",
    "\n",
    "y.head()"
   ]
  },
  {
   "cell_type": "code",
   "execution_count": 16,
   "metadata": {},
   "outputs": [],
   "source": [
    "# Drop the player with NaN value for contract \n",
    "X.drop(index='247026', inplace=True)\n",
    "y.drop(index='247026', inplace=True)\n",
    "\n",
    "# Split into train and test data\n",
    "X_train, X_test, y_train, y_test = train_test_split(X, y, test_size=0.2, random_state=42)"
   ]
  },
  {
   "cell_type": "markdown",
   "metadata": {},
   "source": [
    "#### Step 3: Set up and train simple logistic regression and a simple neural network, compare results on test set"
   ]
  },
  {
   "cell_type": "code",
   "execution_count": 17,
   "metadata": {},
   "outputs": [
    {
     "name": "stdout",
     "output_type": "stream",
     "text": [
      "Accuracy: 0.6724890829694323\n"
     ]
    },
    {
     "name": "stderr",
     "output_type": "stream",
     "text": [
      "c:\\Users\\srira\\miniconda3\\envs\\bmkg\\lib\\site-packages\\sklearn\\utils\\validation.py:1408: DataConversionWarning: A column-vector y was passed when a 1d array was expected. Please change the shape of y to (n_samples, ), for example using ravel().\n",
      "  y = column_or_1d(y, warn=True)\n",
      "c:\\Users\\srira\\miniconda3\\envs\\bmkg\\lib\\site-packages\\sklearn\\linear_model\\_logistic.py:465: ConvergenceWarning: lbfgs failed to converge (status=1):\n",
      "STOP: TOTAL NO. of ITERATIONS REACHED LIMIT.\n",
      "\n",
      "Increase the number of iterations (max_iter) or scale the data as shown in:\n",
      "    https://scikit-learn.org/stable/modules/preprocessing.html\n",
      "Please also refer to the documentation for alternative solver options:\n",
      "    https://scikit-learn.org/stable/modules/linear_model.html#logistic-regression\n",
      "  n_iter_i = _check_optimize_result(\n"
     ]
    }
   ],
   "source": [
    "# Logistic regression \n",
    "\n",
    "logit = LogisticRegression()\n",
    "logit.fit(X_train, y_train.values)\n",
    "\n",
    "# Get the probabilities for the positive class (1)\n",
    "y_prob = logit.predict_proba(X_test)[:, 1]\n",
    "\n",
    "# Apply the bayesian threshold \n",
    "y_pred = (y_prob > 0.5).astype(int)\n",
    "\n",
    "# Calculate the accuracy\n",
    "logit_accuracy = accuracy_score(y_test, y_pred)\n",
    "print(f'Accuracy: {logit_accuracy}')"
   ]
  },
  {
   "cell_type": "code",
   "execution_count": 34,
   "metadata": {},
   "outputs": [
    {
     "name": "stdout",
     "output_type": "stream",
     "text": [
      "Test Accuracy: 0.6900\n"
     ]
    }
   ],
   "source": [
    "# Vanilla neural network \n",
    "\n",
    "X_train_tensor = torch.tensor(X_train.values, dtype=torch.float32)\n",
    "y_train_tensor = torch.tensor(y_train.values, dtype=torch.float32).view(-1, 1)\n",
    "X_test_tensor = torch.tensor(X_test.values, dtype=torch.float32)\n",
    "y_test_tensor = torch.tensor(y_test.values, dtype=torch.float32).view(-1, 1)\n",
    "\n",
    "# Define a simple neural network with one hidden layer\n",
    "class SimpleNN(nn.Module):\n",
    "    def __init__(self, input_dim):\n",
    "        super(SimpleNN, self).__init__()\n",
    "        self.hidden = nn.Linear(input_dim, 8)  # Hidden layer with 8 neurons\n",
    "        self.output = nn.Linear(8, 1)  # Output layer with 1 neuron\n",
    "\n",
    "    def forward(self, x):\n",
    "        x = torch.relu(self.hidden(x))  # Apply ReLU activation to hidden layer\n",
    "        x = torch.sigmoid(self.output(x))  # Apply Sigmoid activation to output\n",
    "        return x\n",
    "\n",
    "# Initialize model\n",
    "model = SimpleNN(X_train.shape[1])\n",
    "\n",
    "# Loss and optimizer\n",
    "criterion = nn.BCELoss()\n",
    "optimizer = optim.Adam(model.parameters(), lr=0.01)\n",
    "\n",
    "# Training loop\n",
    "epochs = 50\n",
    "for epoch in range(epochs):\n",
    "    y_pred = model(X_train_tensor)\n",
    "    loss = criterion(y_pred, y_train_tensor)\n",
    "    \n",
    "    optimizer.zero_grad()\n",
    "    loss.backward()\n",
    "    optimizer.step()\n",
    "\n",
    "# Apply bayesian threshold \n",
    "with torch.no_grad():\n",
    "    y_pred_prob = model(X_test_tensor)\n",
    "    y_pred = (y_pred_prob > 0.5).float()\n",
    "    \n",
    "nn_accuracy = accuracy_score(y_test_tensor, y_pred.numpy())\n",
    "print(f\"Test Accuracy: {nn_accuracy:.4f}\")"
   ]
  },
  {
   "cell_type": "markdown",
   "metadata": {},
   "source": [
    "I observe similar performance from logistic regression and the vanilla neural network (~67% accuracy). Sticking to Occam's razor principle, I would personally chose logistic regression since it is more interpretable. It is also easy to tweak the parameters and see their effect on the predictions, helping identify the main predictors. "
   ]
  }
 ],
 "metadata": {
  "kernelspec": {
   "display_name": "bmkg",
   "language": "python",
   "name": "python3"
  },
  "language_info": {
   "codemirror_mode": {
    "name": "ipython",
    "version": 3
   },
   "file_extension": ".py",
   "mimetype": "text/x-python",
   "name": "python",
   "nbconvert_exporter": "python",
   "pygments_lexer": "ipython3",
   "version": "3.9.21"
  }
 },
 "nbformat": 4,
 "nbformat_minor": 2
}
